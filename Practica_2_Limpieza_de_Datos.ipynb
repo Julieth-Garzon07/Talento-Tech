{
  "nbformat": 4,
  "nbformat_minor": 0,
  "metadata": {
    "colab": {
      "provenance": [],
      "authorship_tag": "ABX9TyMKdz2My9jGV/y+9mwK+eGl",
      "include_colab_link": true
    },
    "kernelspec": {
      "name": "python3",
      "display_name": "Python 3"
    },
    "language_info": {
      "name": "python"
    }
  },
  "cells": [
    {
      "cell_type": "markdown",
      "metadata": {
        "id": "view-in-github",
        "colab_type": "text"
      },
      "source": [
        "<a href=\"https://colab.research.google.com/github/Julieth-Garzon07/Talento-Tech/blob/main/Practica_2_Limpieza_de_Datos.ipynb\" target=\"_parent\"><img src=\"https://colab.research.google.com/assets/colab-badge.svg\" alt=\"Open In Colab\"/></a>"
      ]
    },
    {
      "cell_type": "markdown",
      "source": [
        "##Practica 2"
      ],
      "metadata": {
        "id": "QksJywPMyKrq"
      }
    },
    {
      "cell_type": "markdown",
      "source": [
        "\n",
        "# Limpieza de Datos\n",
        "\n",
        "Realizaremos el proceso de limpieza teniendo en cuenta las situaciones mas comunes:\n",
        "\n",
        "1.   Datos faltantes en algunas celdas\n",
        "2.   Columnas irrelevantes (que no corresponden al problema que queremos resolver)\n",
        "1.   Registros (filas) repetidos\n",
        "2.   Valores extramos (*outliers*) en caso de las variables numericas.\n",
        "Se deben analizar en detalle pues no necesariamente la solucion es eliminarlos\n",
        "1.   Errores tipograficos en el caso de las variables categoricas\n",
        "\n",
        "Al final de este proceso de limpieza deberiamos tener un set de datos **integro**, listo para la fase de Analisis Exploratorio.\n",
        "\n",
        "\n",
        "\n",
        "\n",
        "\n"
      ],
      "metadata": {
        "id": "X_HqcjGYnwIW"
      }
    },
    {
      "cell_type": "markdown",
      "source": [
        "#Datos Faltantes\n",
        "Aca comenzamos a ver que los datos no estan completos, pues no todas las columnas tienen la misma cantidad de registros.\n",
        "\n",
        "El numero total de registros deberia ser 45.215. Sin embargo columnas como \"job\", \"marital\", \"education\", \"balance\",\"duration\" y \"pdays\".\n",
        "\n",
        "Por ser tan pocos los datos faltantes optaremos por eliminar las filas corespondientes."
      ],
      "metadata": {
        "id": "XQ3KwXnusHLa"
      }
    },
    {
      "cell_type": "markdown",
      "source": [
        "# Columnas irrelevantes\n",
        "\n",
        "Una columna irrelevante puede ser:\n",
        "\n",
        "*   **Una columna que no contiene informacion relevante para el problema que queremos resolver**. Por ejemplo en este caso podria ser una columna que no guarde relacion con el posible perfil del cliente (deporte favorito, hobbies, comida favorita, etc.)\n",
        "*   **Una columna categorica pero con un solo nivel**. Por ejemplo si en la columna \"job\" solo tuviesemos el nivel \"unknown\".\n",
        "*  **Una columna numerica pero con un solo valor**. Por ejemplo si en la columna \"edad\" todos los valores fuesen iguales a 50.\n",
        "*   **Columna con informacion redundante**. Por ejemplo si ademas de las columnas \"month\" y \"day\" tuviesemos la columna \"month-day\", resultado de combinar las dos anteriores.\n",
        "\n",
        "Si tenemos la duda de si alguna columna puede ser relevante o no lo mejor es dejarla (y mas adelante en posteriores etapas pondremos darnos cuenta de si se debe preservar o no).\n",
        "\n",
        "En este caso todas las columnas pueden resultar relevntes, pero debemos verificar que no haya columnas categoricas con un solo nivel, o columnas numericas con un solo valor\n",
        "\n",
        "\n",
        "\n"
      ],
      "metadata": {
        "id": "Q2aIMM_RyGOy"
      }
    },
    {
      "cell_type": "code",
      "execution_count": null,
      "metadata": {
        "id": "WG0Y8MV7lFZC"
      },
      "outputs": [],
      "source": []
    },
    {
      "cell_type": "code",
      "source": [],
      "metadata": {
        "id": "vomudXQb4vl7"
      },
      "execution_count": null,
      "outputs": []
    }
  ]
}