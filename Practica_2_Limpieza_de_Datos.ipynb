{
  "nbformat": 4,
  "nbformat_minor": 0,
  "metadata": {
    "colab": {
      "provenance": [],
      "mount_file_id": "1YpkMJxKbtrMZaYLvmAB8hd8nLazcXv9_",
      "authorship_tag": "ABX9TyMSdlTjSq1uT5auwv0uKtQ5",
      "include_colab_link": true
    },
    "kernelspec": {
      "name": "python3",
      "display_name": "Python 3"
    },
    "language_info": {
      "name": "python"
    }
  },
  "cells": [
    {
      "cell_type": "markdown",
      "metadata": {
        "id": "view-in-github",
        "colab_type": "text"
      },
      "source": [
        "<a href=\"https://colab.research.google.com/github/Julieth-Garzon07/Talento-Tech/blob/main/Practica_2_Limpieza_de_Datos.ipynb\" target=\"_parent\"><img src=\"https://colab.research.google.com/assets/colab-badge.svg\" alt=\"Open In Colab\"/></a>"
      ]
    },
    {
      "cell_type": "markdown",
      "source": [
        "##Practica 2"
      ],
      "metadata": {
        "id": "QksJywPMyKrq"
      }
    },
    {
      "cell_type": "markdown",
      "source": [
        "# 1. El problema del negocio\n",
        "\n",
        "Una entidad bancaria contrata a una empresa de marketing encargada de contactar telefónicamente a posibles clientes para determinar si están interesados o no en adquirir un certificado de depósito a término con el banco."
      ],
      "metadata": {
        "id": "pvhmVDjpIOlH"
      }
    },
    {
      "cell_type": "markdown",
      "source": [
        "# 2. El set de datos\n",
        "\n",
        "La información recolectada por la empresa de mercadeo se encuentra en un archivo CSV (`dataset_banco.csv`) con 45215 filas y 17 columnas.\n",
        "\n",
        "Cada registro contiene 16 características (las primeras 16 columnas) y una categoría (\"yes\" o \"no\" dependiendo de si la persona está o no interesada en adquirir el producto). Las columnas son:\n",
        "\n",
        "1. \"age\":  edad (numérica)\n",
        "2. \"job\": tipo de trabajo (categórica: \"admin.\", \"unknown\", \"unemployed\", \"management\", \"housemaid\", \"entrepreneur\", \"student\", \"blue-collar\",\"self-employed\", \"retired\", \"technician\", \"services\")\n",
        "3. \"marital\": estado civil (categórica: \"married\", \"divorced\", \"single\")\n",
        "4. \"education\": nivel educativo (categórica: \"unknown\", \"secondary\", \"primary\", \"tertiary\")\n",
        "5. \"default\": si dejó de pagar sus obligaciones (categórica: \"yes\", \"no\")\n",
        "6. \"balance\": saldo promedio anual en euros (numérica)\n",
        "7. \"housing\": ¿tiene o no crédito hipotecario? (categórica: \"yes\", \"no\")\n",
        "8. \"loan\": ¿tiene créditos de consumo? (categórica: \"yes\", \"no\")\n",
        "9. \"contact\": medio a través del cual fue contactado (categórica: \"unknown\", \"telephone\", \"cellular\")\n",
        "10. \"day\": último día del mes en el que fue contactada (numérica)\n",
        "11. \"month\": último mes en el que fue contactada (categórica: \"jan\", \"feb\", \"mar\", ..., \"nov\", \"dec\")\n",
        "12. \"duration\": duración (en segundos) del último contacto (numérica)\n",
        "13. \"campaign\": número total de veces que fue contactada durante la campaña (numérica)\n",
        "14. \"pdays\": número de días transcurridos después de haber sido contactado antes de la campaña actual (numérica. -1 indica que no fue contactado previamente)\n",
        "15. \"previous\": número de veces que ha sido contactada antes de esta campaña (numérica)\n",
        "16. \"poutcome\": resultado de la campaña de marketing anterior (categórica: \"unknown\", \"other\", \"failure\", \"success\")\n",
        "17. \"y\": categoría ¿el cliente se suscribió a un depósito a término? (categórica: \"yes\", \"no\")"
      ],
      "metadata": {
        "id": "R18rQ5L_IOKo"
      }
    },
    {
      "cell_type": "markdown",
      "source": [
        "# 3. Un primera mirada al Dataset\n",
        "Librerias"
      ],
      "metadata": {
        "id": "dBSsgJ48JV5l"
      }
    },
    {
      "cell_type": "code",
      "source": [
        "import pandas as pd\n",
        "import matplotlib.pyplot as plt\n",
        "import seaborn as sns"
      ],
      "metadata": {
        "id": "k4z1DpXI4lFq"
      },
      "execution_count": 1,
      "outputs": []
    },
    {
      "cell_type": "code",
      "execution_count": 2,
      "metadata": {
        "colab": {
          "base_uri": "https://localhost:8080/"
        },
        "id": "WG0Y8MV7lFZC",
        "outputId": "db5470df-514b-480e-919d-85ab6e696bc5"
      },
      "outputs": [
        {
          "output_type": "stream",
          "name": "stdout",
          "text": [
            "Drive already mounted at /content/drive; to attempt to forcibly remount, call drive.mount(\"/content/drive\", force_remount=True).\n"
          ]
        }
      ],
      "source": [
        "from google.colab import drive\n",
        "drive.mount('/content/drive')"
      ]
    },
    {
      "cell_type": "code",
      "source": [
        "path = '/content/drive/MyDrive/dataset_banco-1.csv'\n",
        "data = pd.read_csv(path)"
      ],
      "metadata": {
        "id": "vomudXQb4vl7"
      },
      "execution_count": 3,
      "outputs": []
    },
    {
      "cell_type": "code",
      "source": [
        "print(data.shape)\n",
        "data.head()"
      ],
      "metadata": {
        "colab": {
          "base_uri": "https://localhost:8080/",
          "height": 244
        },
        "id": "2iaZjgpE5XlG",
        "outputId": "ad2c684c-1eaa-4546-a56e-b1309b476f5b"
      },
      "execution_count": 4,
      "outputs": [
        {
          "output_type": "stream",
          "name": "stdout",
          "text": [
            "(45215, 17)\n"
          ]
        },
        {
          "output_type": "execute_result",
          "data": {
            "text/plain": [
              "   age           job  marital  education default  balance housing loan  \\\n",
              "0   58    management  married   tertiary      no   2143.0     yes   no   \n",
              "1   44    technician   single  secondary      no     29.0     yes   no   \n",
              "2   33  entrepreneur  married  secondary      no      2.0     yes  yes   \n",
              "3   47   blue-collar  married    unknown      no   1506.0     yes   no   \n",
              "4   33       unknown   single    unknown      no      1.0      no   no   \n",
              "\n",
              "   contact  day month  duration  campaign  pdays  previous poutcome   y  \n",
              "0  unknown    5   may     261.0         1   -1.0         0  unknown  no  \n",
              "1  unknown    5   may     151.0         1   -1.0         0  unknown  no  \n",
              "2  unknown    5   may      76.0         1   -1.0         0  unknown  no  \n",
              "3  unknown    5   may      92.0         1   -1.0         0  unknown  no  \n",
              "4  unknown    5   may     198.0         1   -1.0         0  unknown  no  "
            ],
            "text/html": [
              "\n",
              "  <div id=\"df-a48c2809-5541-46c5-a393-5deed7ef0ce3\" class=\"colab-df-container\">\n",
              "    <div>\n",
              "<style scoped>\n",
              "    .dataframe tbody tr th:only-of-type {\n",
              "        vertical-align: middle;\n",
              "    }\n",
              "\n",
              "    .dataframe tbody tr th {\n",
              "        vertical-align: top;\n",
              "    }\n",
              "\n",
              "    .dataframe thead th {\n",
              "        text-align: right;\n",
              "    }\n",
              "</style>\n",
              "<table border=\"1\" class=\"dataframe\">\n",
              "  <thead>\n",
              "    <tr style=\"text-align: right;\">\n",
              "      <th></th>\n",
              "      <th>age</th>\n",
              "      <th>job</th>\n",
              "      <th>marital</th>\n",
              "      <th>education</th>\n",
              "      <th>default</th>\n",
              "      <th>balance</th>\n",
              "      <th>housing</th>\n",
              "      <th>loan</th>\n",
              "      <th>contact</th>\n",
              "      <th>day</th>\n",
              "      <th>month</th>\n",
              "      <th>duration</th>\n",
              "      <th>campaign</th>\n",
              "      <th>pdays</th>\n",
              "      <th>previous</th>\n",
              "      <th>poutcome</th>\n",
              "      <th>y</th>\n",
              "    </tr>\n",
              "  </thead>\n",
              "  <tbody>\n",
              "    <tr>\n",
              "      <th>0</th>\n",
              "      <td>58</td>\n",
              "      <td>management</td>\n",
              "      <td>married</td>\n",
              "      <td>tertiary</td>\n",
              "      <td>no</td>\n",
              "      <td>2143.0</td>\n",
              "      <td>yes</td>\n",
              "      <td>no</td>\n",
              "      <td>unknown</td>\n",
              "      <td>5</td>\n",
              "      <td>may</td>\n",
              "      <td>261.0</td>\n",
              "      <td>1</td>\n",
              "      <td>-1.0</td>\n",
              "      <td>0</td>\n",
              "      <td>unknown</td>\n",
              "      <td>no</td>\n",
              "    </tr>\n",
              "    <tr>\n",
              "      <th>1</th>\n",
              "      <td>44</td>\n",
              "      <td>technician</td>\n",
              "      <td>single</td>\n",
              "      <td>secondary</td>\n",
              "      <td>no</td>\n",
              "      <td>29.0</td>\n",
              "      <td>yes</td>\n",
              "      <td>no</td>\n",
              "      <td>unknown</td>\n",
              "      <td>5</td>\n",
              "      <td>may</td>\n",
              "      <td>151.0</td>\n",
              "      <td>1</td>\n",
              "      <td>-1.0</td>\n",
              "      <td>0</td>\n",
              "      <td>unknown</td>\n",
              "      <td>no</td>\n",
              "    </tr>\n",
              "    <tr>\n",
              "      <th>2</th>\n",
              "      <td>33</td>\n",
              "      <td>entrepreneur</td>\n",
              "      <td>married</td>\n",
              "      <td>secondary</td>\n",
              "      <td>no</td>\n",
              "      <td>2.0</td>\n",
              "      <td>yes</td>\n",
              "      <td>yes</td>\n",
              "      <td>unknown</td>\n",
              "      <td>5</td>\n",
              "      <td>may</td>\n",
              "      <td>76.0</td>\n",
              "      <td>1</td>\n",
              "      <td>-1.0</td>\n",
              "      <td>0</td>\n",
              "      <td>unknown</td>\n",
              "      <td>no</td>\n",
              "    </tr>\n",
              "    <tr>\n",
              "      <th>3</th>\n",
              "      <td>47</td>\n",
              "      <td>blue-collar</td>\n",
              "      <td>married</td>\n",
              "      <td>unknown</td>\n",
              "      <td>no</td>\n",
              "      <td>1506.0</td>\n",
              "      <td>yes</td>\n",
              "      <td>no</td>\n",
              "      <td>unknown</td>\n",
              "      <td>5</td>\n",
              "      <td>may</td>\n",
              "      <td>92.0</td>\n",
              "      <td>1</td>\n",
              "      <td>-1.0</td>\n",
              "      <td>0</td>\n",
              "      <td>unknown</td>\n",
              "      <td>no</td>\n",
              "    </tr>\n",
              "    <tr>\n",
              "      <th>4</th>\n",
              "      <td>33</td>\n",
              "      <td>unknown</td>\n",
              "      <td>single</td>\n",
              "      <td>unknown</td>\n",
              "      <td>no</td>\n",
              "      <td>1.0</td>\n",
              "      <td>no</td>\n",
              "      <td>no</td>\n",
              "      <td>unknown</td>\n",
              "      <td>5</td>\n",
              "      <td>may</td>\n",
              "      <td>198.0</td>\n",
              "      <td>1</td>\n",
              "      <td>-1.0</td>\n",
              "      <td>0</td>\n",
              "      <td>unknown</td>\n",
              "      <td>no</td>\n",
              "    </tr>\n",
              "  </tbody>\n",
              "</table>\n",
              "</div>\n",
              "    <div class=\"colab-df-buttons\">\n",
              "\n",
              "  <div class=\"colab-df-container\">\n",
              "    <button class=\"colab-df-convert\" onclick=\"convertToInteractive('df-a48c2809-5541-46c5-a393-5deed7ef0ce3')\"\n",
              "            title=\"Convert this dataframe to an interactive table.\"\n",
              "            style=\"display:none;\">\n",
              "\n",
              "  <svg xmlns=\"http://www.w3.org/2000/svg\" height=\"24px\" viewBox=\"0 -960 960 960\">\n",
              "    <path d=\"M120-120v-720h720v720H120Zm60-500h600v-160H180v160Zm220 220h160v-160H400v160Zm0 220h160v-160H400v160ZM180-400h160v-160H180v160Zm440 0h160v-160H620v160ZM180-180h160v-160H180v160Zm440 0h160v-160H620v160Z\"/>\n",
              "  </svg>\n",
              "    </button>\n",
              "\n",
              "  <style>\n",
              "    .colab-df-container {\n",
              "      display:flex;\n",
              "      gap: 12px;\n",
              "    }\n",
              "\n",
              "    .colab-df-convert {\n",
              "      background-color: #E8F0FE;\n",
              "      border: none;\n",
              "      border-radius: 50%;\n",
              "      cursor: pointer;\n",
              "      display: none;\n",
              "      fill: #1967D2;\n",
              "      height: 32px;\n",
              "      padding: 0 0 0 0;\n",
              "      width: 32px;\n",
              "    }\n",
              "\n",
              "    .colab-df-convert:hover {\n",
              "      background-color: #E2EBFA;\n",
              "      box-shadow: 0px 1px 2px rgba(60, 64, 67, 0.3), 0px 1px 3px 1px rgba(60, 64, 67, 0.15);\n",
              "      fill: #174EA6;\n",
              "    }\n",
              "\n",
              "    .colab-df-buttons div {\n",
              "      margin-bottom: 4px;\n",
              "    }\n",
              "\n",
              "    [theme=dark] .colab-df-convert {\n",
              "      background-color: #3B4455;\n",
              "      fill: #D2E3FC;\n",
              "    }\n",
              "\n",
              "    [theme=dark] .colab-df-convert:hover {\n",
              "      background-color: #434B5C;\n",
              "      box-shadow: 0px 1px 3px 1px rgba(0, 0, 0, 0.15);\n",
              "      filter: drop-shadow(0px 1px 2px rgba(0, 0, 0, 0.3));\n",
              "      fill: #FFFFFF;\n",
              "    }\n",
              "  </style>\n",
              "\n",
              "    <script>\n",
              "      const buttonEl =\n",
              "        document.querySelector('#df-a48c2809-5541-46c5-a393-5deed7ef0ce3 button.colab-df-convert');\n",
              "      buttonEl.style.display =\n",
              "        google.colab.kernel.accessAllowed ? 'block' : 'none';\n",
              "\n",
              "      async function convertToInteractive(key) {\n",
              "        const element = document.querySelector('#df-a48c2809-5541-46c5-a393-5deed7ef0ce3');\n",
              "        const dataTable =\n",
              "          await google.colab.kernel.invokeFunction('convertToInteractive',\n",
              "                                                    [key], {});\n",
              "        if (!dataTable) return;\n",
              "\n",
              "        const docLinkHtml = 'Like what you see? Visit the ' +\n",
              "          '<a target=\"_blank\" href=https://colab.research.google.com/notebooks/data_table.ipynb>data table notebook</a>'\n",
              "          + ' to learn more about interactive tables.';\n",
              "        element.innerHTML = '';\n",
              "        dataTable['output_type'] = 'display_data';\n",
              "        await google.colab.output.renderOutput(dataTable, element);\n",
              "        const docLink = document.createElement('div');\n",
              "        docLink.innerHTML = docLinkHtml;\n",
              "        element.appendChild(docLink);\n",
              "      }\n",
              "    </script>\n",
              "  </div>\n",
              "\n",
              "\n",
              "<div id=\"df-49ce698c-c081-44d9-a2a2-0fe992e54eb7\">\n",
              "  <button class=\"colab-df-quickchart\" onclick=\"quickchart('df-49ce698c-c081-44d9-a2a2-0fe992e54eb7')\"\n",
              "            title=\"Suggest charts\"\n",
              "            style=\"display:none;\">\n",
              "\n",
              "<svg xmlns=\"http://www.w3.org/2000/svg\" height=\"24px\"viewBox=\"0 0 24 24\"\n",
              "     width=\"24px\">\n",
              "    <g>\n",
              "        <path d=\"M19 3H5c-1.1 0-2 .9-2 2v14c0 1.1.9 2 2 2h14c1.1 0 2-.9 2-2V5c0-1.1-.9-2-2-2zM9 17H7v-7h2v7zm4 0h-2V7h2v10zm4 0h-2v-4h2v4z\"/>\n",
              "    </g>\n",
              "</svg>\n",
              "  </button>\n",
              "\n",
              "<style>\n",
              "  .colab-df-quickchart {\n",
              "      --bg-color: #E8F0FE;\n",
              "      --fill-color: #1967D2;\n",
              "      --hover-bg-color: #E2EBFA;\n",
              "      --hover-fill-color: #174EA6;\n",
              "      --disabled-fill-color: #AAA;\n",
              "      --disabled-bg-color: #DDD;\n",
              "  }\n",
              "\n",
              "  [theme=dark] .colab-df-quickchart {\n",
              "      --bg-color: #3B4455;\n",
              "      --fill-color: #D2E3FC;\n",
              "      --hover-bg-color: #434B5C;\n",
              "      --hover-fill-color: #FFFFFF;\n",
              "      --disabled-bg-color: #3B4455;\n",
              "      --disabled-fill-color: #666;\n",
              "  }\n",
              "\n",
              "  .colab-df-quickchart {\n",
              "    background-color: var(--bg-color);\n",
              "    border: none;\n",
              "    border-radius: 50%;\n",
              "    cursor: pointer;\n",
              "    display: none;\n",
              "    fill: var(--fill-color);\n",
              "    height: 32px;\n",
              "    padding: 0;\n",
              "    width: 32px;\n",
              "  }\n",
              "\n",
              "  .colab-df-quickchart:hover {\n",
              "    background-color: var(--hover-bg-color);\n",
              "    box-shadow: 0 1px 2px rgba(60, 64, 67, 0.3), 0 1px 3px 1px rgba(60, 64, 67, 0.15);\n",
              "    fill: var(--button-hover-fill-color);\n",
              "  }\n",
              "\n",
              "  .colab-df-quickchart-complete:disabled,\n",
              "  .colab-df-quickchart-complete:disabled:hover {\n",
              "    background-color: var(--disabled-bg-color);\n",
              "    fill: var(--disabled-fill-color);\n",
              "    box-shadow: none;\n",
              "  }\n",
              "\n",
              "  .colab-df-spinner {\n",
              "    border: 2px solid var(--fill-color);\n",
              "    border-color: transparent;\n",
              "    border-bottom-color: var(--fill-color);\n",
              "    animation:\n",
              "      spin 1s steps(1) infinite;\n",
              "  }\n",
              "\n",
              "  @keyframes spin {\n",
              "    0% {\n",
              "      border-color: transparent;\n",
              "      border-bottom-color: var(--fill-color);\n",
              "      border-left-color: var(--fill-color);\n",
              "    }\n",
              "    20% {\n",
              "      border-color: transparent;\n",
              "      border-left-color: var(--fill-color);\n",
              "      border-top-color: var(--fill-color);\n",
              "    }\n",
              "    30% {\n",
              "      border-color: transparent;\n",
              "      border-left-color: var(--fill-color);\n",
              "      border-top-color: var(--fill-color);\n",
              "      border-right-color: var(--fill-color);\n",
              "    }\n",
              "    40% {\n",
              "      border-color: transparent;\n",
              "      border-right-color: var(--fill-color);\n",
              "      border-top-color: var(--fill-color);\n",
              "    }\n",
              "    60% {\n",
              "      border-color: transparent;\n",
              "      border-right-color: var(--fill-color);\n",
              "    }\n",
              "    80% {\n",
              "      border-color: transparent;\n",
              "      border-right-color: var(--fill-color);\n",
              "      border-bottom-color: var(--fill-color);\n",
              "    }\n",
              "    90% {\n",
              "      border-color: transparent;\n",
              "      border-bottom-color: var(--fill-color);\n",
              "    }\n",
              "  }\n",
              "</style>\n",
              "\n",
              "  <script>\n",
              "    async function quickchart(key) {\n",
              "      const quickchartButtonEl =\n",
              "        document.querySelector('#' + key + ' button');\n",
              "      quickchartButtonEl.disabled = true;  // To prevent multiple clicks.\n",
              "      quickchartButtonEl.classList.add('colab-df-spinner');\n",
              "      try {\n",
              "        const charts = await google.colab.kernel.invokeFunction(\n",
              "            'suggestCharts', [key], {});\n",
              "      } catch (error) {\n",
              "        console.error('Error during call to suggestCharts:', error);\n",
              "      }\n",
              "      quickchartButtonEl.classList.remove('colab-df-spinner');\n",
              "      quickchartButtonEl.classList.add('colab-df-quickchart-complete');\n",
              "    }\n",
              "    (() => {\n",
              "      let quickchartButtonEl =\n",
              "        document.querySelector('#df-49ce698c-c081-44d9-a2a2-0fe992e54eb7 button');\n",
              "      quickchartButtonEl.style.display =\n",
              "        google.colab.kernel.accessAllowed ? 'block' : 'none';\n",
              "    })();\n",
              "  </script>\n",
              "</div>\n",
              "\n",
              "    </div>\n",
              "  </div>\n"
            ],
            "application/vnd.google.colaboratory.intrinsic+json": {
              "type": "dataframe",
              "variable_name": "data",
              "summary": "{\n  \"name\": \"data\",\n  \"rows\": 45215,\n  \"fields\": [\n    {\n      \"column\": \"age\",\n      \"properties\": {\n        \"dtype\": \"number\",\n        \"std\": 12,\n        \"min\": 18,\n        \"max\": 776,\n        \"num_unique_values\": 85,\n        \"samples\": [\n          89,\n          58,\n          74\n        ],\n        \"semantic_type\": \"\",\n        \"description\": \"\"\n      }\n    },\n    {\n      \"column\": \"job\",\n      \"properties\": {\n        \"dtype\": \"category\",\n        \"num_unique_values\": 18,\n        \"samples\": [\n          \"management\",\n          \"technician\",\n          \"services\"\n        ],\n        \"semantic_type\": \"\",\n        \"description\": \"\"\n      }\n    },\n    {\n      \"column\": \"marital\",\n      \"properties\": {\n        \"dtype\": \"category\",\n        \"num_unique_values\": 6,\n        \"samples\": [\n          \"married\",\n          \"single\",\n          \"Single\"\n        ],\n        \"semantic_type\": \"\",\n        \"description\": \"\"\n      }\n    },\n    {\n      \"column\": \"education\",\n      \"properties\": {\n        \"dtype\": \"category\",\n        \"num_unique_values\": 10,\n        \"samples\": [\n          \"Tertiary\",\n          \"secondary\",\n          \"Secondary\"\n        ],\n        \"semantic_type\": \"\",\n        \"description\": \"\"\n      }\n    },\n    {\n      \"column\": \"default\",\n      \"properties\": {\n        \"dtype\": \"category\",\n        \"num_unique_values\": 2,\n        \"samples\": [\n          \"yes\",\n          \"no\"\n        ],\n        \"semantic_type\": \"\",\n        \"description\": \"\"\n      }\n    },\n    {\n      \"column\": \"balance\",\n      \"properties\": {\n        \"dtype\": \"number\",\n        \"std\": 3924.255524653657,\n        \"min\": -8019.0,\n        \"max\": 527532.0,\n        \"num_unique_values\": 7168,\n        \"samples\": [\n          3276.0,\n          43.0\n        ],\n        \"semantic_type\": \"\",\n        \"description\": \"\"\n      }\n    },\n    {\n      \"column\": \"housing\",\n      \"properties\": {\n        \"dtype\": \"category\",\n        \"num_unique_values\": 2,\n        \"samples\": [\n          \"no\",\n          \"yes\"\n        ],\n        \"semantic_type\": \"\",\n        \"description\": \"\"\n      }\n    },\n    {\n      \"column\": \"loan\",\n      \"properties\": {\n        \"dtype\": \"category\",\n        \"num_unique_values\": 6,\n        \"samples\": [\n          \"no\",\n          \"yes\"\n        ],\n        \"semantic_type\": \"\",\n        \"description\": \"\"\n      }\n    },\n    {\n      \"column\": \"contact\",\n      \"properties\": {\n        \"dtype\": \"category\",\n        \"num_unique_values\": 5,\n        \"samples\": [\n          \"cellular\",\n          \"mobile\"\n        ],\n        \"semantic_type\": \"\",\n        \"description\": \"\"\n      }\n    },\n    {\n      \"column\": \"day\",\n      \"properties\": {\n        \"dtype\": \"number\",\n        \"std\": 8,\n        \"min\": 1,\n        \"max\": 31,\n        \"num_unique_values\": 31,\n        \"samples\": [\n          1,\n          27\n        ],\n        \"semantic_type\": \"\",\n        \"description\": \"\"\n      }\n    },\n    {\n      \"column\": \"month\",\n      \"properties\": {\n        \"dtype\": \"category\",\n        \"num_unique_values\": 12,\n        \"samples\": [\n          \"apr\",\n          \"mar\"\n        ],\n        \"semantic_type\": \"\",\n        \"description\": \"\"\n      }\n    },\n    {\n      \"column\": \"duration\",\n      \"properties\": {\n        \"dtype\": \"number\",\n        \"std\": 257.6051746062185,\n        \"min\": -1389.0,\n        \"max\": 4918.0,\n        \"num_unique_values\": 1575,\n        \"samples\": [\n          1342.0,\n          4.0\n        ],\n        \"semantic_type\": \"\",\n        \"description\": \"\"\n      }\n    },\n    {\n      \"column\": \"campaign\",\n      \"properties\": {\n        \"dtype\": \"number\",\n        \"std\": 3,\n        \"min\": 1,\n        \"max\": 63,\n        \"num_unique_values\": 48,\n        \"samples\": [\n          41,\n          27\n        ],\n        \"semantic_type\": \"\",\n        \"description\": \"\"\n      }\n    },\n    {\n      \"column\": \"pdays\",\n      \"properties\": {\n        \"dtype\": \"number\",\n        \"std\": 100.12062172110123,\n        \"min\": -1.0,\n        \"max\": 871.0,\n        \"num_unique_values\": 559,\n        \"samples\": [\n          249.0,\n          551.0\n        ],\n        \"semantic_type\": \"\",\n        \"description\": \"\"\n      }\n    },\n    {\n      \"column\": \"previous\",\n      \"properties\": {\n        \"dtype\": \"number\",\n        \"std\": 2,\n        \"min\": 0,\n        \"max\": 275,\n        \"num_unique_values\": 41,\n        \"samples\": [\n          17,\n          9\n        ],\n        \"semantic_type\": \"\",\n        \"description\": \"\"\n      }\n    },\n    {\n      \"column\": \"poutcome\",\n      \"properties\": {\n        \"dtype\": \"category\",\n        \"num_unique_values\": 6,\n        \"samples\": [\n          \"unknown\",\n          \"UNK\"\n        ],\n        \"semantic_type\": \"\",\n        \"description\": \"\"\n      }\n    },\n    {\n      \"column\": \"y\",\n      \"properties\": {\n        \"dtype\": \"category\",\n        \"num_unique_values\": 2,\n        \"samples\": [\n          \"yes\",\n          \"no\"\n        ],\n        \"semantic_type\": \"\",\n        \"description\": \"\"\n      }\n    }\n  ]\n}"
            }
          },
          "metadata": {},
          "execution_count": 4
        }
      ]
    },
    {
      "cell_type": "markdown",
      "source": [
        "\n",
        "# 4. Limpieza de Datos\n",
        "\n",
        "Realizaremos el proceso de limpieza teniendo en cuenta las situaciones mas comunes:\n",
        "\n",
        "1.   Datos faltantes en algunas celdas\n",
        "2.   Columnas irrelevantes (que no corresponden al problema que queremos resolver)\n",
        "1.   Registros (filas) repetidos\n",
        "2.   Valores extramos (*outliers*) en caso de las variables numericas.\n",
        "Se deben analizar en detalle pues no necesariamente la solucion es eliminarlos\n",
        "1.   Errores tipograficos en el caso de las variables categoricas\n",
        "\n",
        "Al final de este proceso de limpieza deberiamos tener un set de datos **integro**, listo para la fase de Analisis Exploratorio.\n",
        "\n",
        "\n",
        "\n",
        "\n",
        "\n"
      ],
      "metadata": {
        "id": "X_HqcjGYnwIW"
      }
    },
    {
      "cell_type": "code",
      "source": [
        "#Variables categoticas y las numericas\n",
        "data.info()"
      ],
      "metadata": {
        "colab": {
          "base_uri": "https://localhost:8080/"
        },
        "id": "nfmzWeNMOAaW",
        "outputId": "9e26b6e0-fb04-4207-a06a-66c967f09292"
      },
      "execution_count": 5,
      "outputs": [
        {
          "output_type": "stream",
          "name": "stdout",
          "text": [
            "<class 'pandas.core.frame.DataFrame'>\n",
            "RangeIndex: 45215 entries, 0 to 45214\n",
            "Data columns (total 17 columns):\n",
            " #   Column     Non-Null Count  Dtype  \n",
            "---  ------     --------------  -----  \n",
            " 0   age        45215 non-null  int64  \n",
            " 1   job        45213 non-null  object \n",
            " 2   marital    45214 non-null  object \n",
            " 3   education  45214 non-null  object \n",
            " 4   default    45215 non-null  object \n",
            " 5   balance    45213 non-null  float64\n",
            " 6   housing    45215 non-null  object \n",
            " 7   loan       45215 non-null  object \n",
            " 8   contact    45215 non-null  object \n",
            " 9   day        45215 non-null  int64  \n",
            " 10  month      45215 non-null  object \n",
            " 11  duration   45214 non-null  float64\n",
            " 12  campaign   45215 non-null  int64  \n",
            " 13  pdays      45214 non-null  float64\n",
            " 14  previous   45215 non-null  int64  \n",
            " 15  poutcome   45215 non-null  object \n",
            " 16  y          45215 non-null  object \n",
            "dtypes: float64(3), int64(4), object(10)\n",
            "memory usage: 5.9+ MB\n"
          ]
        }
      ]
    },
    {
      "cell_type": "markdown",
      "source": [
        "#Datos Faltantes\n",
        "Aca comenzamos a ver que los datos no estan completos, pues no todas las columnas tienen la misma cantidad de registros.\n",
        "\n",
        "El numero total de registros deberia ser 45.215. Sin embargo columnas como \"job\", \"marital\", \"education\", \"balance\",\"duration\" y \"pdays\".\n",
        "\n",
        "Por ser tan pocos los datos faltantes optaremos por eliminar las filas corespondientes."
      ],
      "metadata": {
        "id": "XQ3KwXnusHLa"
      }
    },
    {
      "cell_type": "code",
      "source": [
        "data.isna().sum()"
      ],
      "metadata": {
        "colab": {
          "base_uri": "https://localhost:8080/"
        },
        "id": "fCjtaeSgcjys",
        "outputId": "0b0a5b02-983e-47fa-f764-4edf659e50f2"
      },
      "execution_count": 16,
      "outputs": [
        {
          "output_type": "execute_result",
          "data": {
            "text/plain": [
              "age          0\n",
              "job          0\n",
              "marital      0\n",
              "education    0\n",
              "default      0\n",
              "balance      0\n",
              "housing      0\n",
              "loan         0\n",
              "contact      0\n",
              "day          0\n",
              "month        0\n",
              "duration     0\n",
              "campaign     0\n",
              "pdays        0\n",
              "previous     0\n",
              "poutcome     0\n",
              "y            0\n",
              "dtype: int64"
            ]
          },
          "metadata": {},
          "execution_count": 16
        }
      ]
    },
    {
      "cell_type": "code",
      "source": [
        "data.dropna(inplace=True)\n",
        "data.info()"
      ],
      "metadata": {
        "colab": {
          "base_uri": "https://localhost:8080/"
        },
        "id": "78z8mStaBRS8",
        "outputId": "66a3ab7b-728b-40bf-b47e-a57712f9d05b"
      },
      "execution_count": 6,
      "outputs": [
        {
          "output_type": "stream",
          "name": "stdout",
          "text": [
            "<class 'pandas.core.frame.DataFrame'>\n",
            "Int64Index: 45207 entries, 0 to 45214\n",
            "Data columns (total 17 columns):\n",
            " #   Column     Non-Null Count  Dtype  \n",
            "---  ------     --------------  -----  \n",
            " 0   age        45207 non-null  int64  \n",
            " 1   job        45207 non-null  object \n",
            " 2   marital    45207 non-null  object \n",
            " 3   education  45207 non-null  object \n",
            " 4   default    45207 non-null  object \n",
            " 5   balance    45207 non-null  float64\n",
            " 6   housing    45207 non-null  object \n",
            " 7   loan       45207 non-null  object \n",
            " 8   contact    45207 non-null  object \n",
            " 9   day        45207 non-null  int64  \n",
            " 10  month      45207 non-null  object \n",
            " 11  duration   45207 non-null  float64\n",
            " 12  campaign   45207 non-null  int64  \n",
            " 13  pdays      45207 non-null  float64\n",
            " 14  previous   45207 non-null  int64  \n",
            " 15  poutcome   45207 non-null  object \n",
            " 16  y          45207 non-null  object \n",
            "dtypes: float64(3), int64(4), object(10)\n",
            "memory usage: 6.2+ MB\n"
          ]
        }
      ]
    },
    {
      "cell_type": "markdown",
      "source": [
        "# Columnas irrelevantes\n",
        "\n",
        "Una columna irrelevante puede ser:\n",
        "\n",
        "*   **Una columna que no contiene informacion relevante para el problema que queremos resolver**. Por ejemplo en este caso podria ser una columna que no guarde relacion con el posible perfil del cliente (deporte favorito, hobbies, comida favorita, etc.)\n",
        "*   **Una columna categorica pero con un solo nivel**. Por ejemplo si en la columna \"job\" solo tuviesemos el nivel \"unknown\".\n",
        "*  **Una columna numerica pero con un solo valor**. Por ejemplo si en la columna \"edad\" todos los valores fuesen iguales a 50.\n",
        "*   **Columna con informacion redundante**. Por ejemplo si ademas de las columnas \"month\" y \"day\" tuviesemos la columna \"month-day\", resultado de combinar las dos anteriores.\n",
        "\n",
        "Si tenemos la duda de si alguna columna puede ser relevante o no lo mejor es dejarla (y mas adelante en posteriores etapas pondremos darnos cuenta de si se debe preservar o no).\n",
        "\n",
        "En este caso todas las columnas pueden resultar relevntes, pero debemos verificar que no haya columnas categoricas con un solo nivel, o columnas numericas con un solo valor\n",
        "\n",
        "\n",
        "\n"
      ],
      "metadata": {
        "id": "Q2aIMM_RyGOy"
      }
    },
    {
      "cell_type": "markdown",
      "source": [
        "Notas acerca de ciclo FOR\n",
        "\n",
        "for col in cols_cat: Este es un bucle for que iterasobre cada elemento en la lista cols_cat. La variable col tomara el valor de cada elemento en cada iteracion del bucle.\n",
        "\n",
        "print(f'Columna{col}:{data[col].nunique()}subniveles'):Dentro del bucle,esta linea de codigo imprime un mensajeque indica el nombre de la columna (col), seguido por el numero de subniveles unicos en esa columna.\n",
        "\n",
        "f'Columna{col}:{data[col].nunique()} subniveles': Esta es una cadena de formato (f-string) que contiene dos variables:\n",
        "{col}: Representa el nombre de la columna actual en la iteración del bucle.\n",
        "{data[col].nunique()}: Representa el número de subniveles únicos en la columna actual. data[col] selecciona la columna actual del DataFrame y .nunique() calcula el número de valores únicos en esa columna.\n"
      ],
      "metadata": {
        "id": "6S5U_ffcN08_"
      }
    },
    {
      "cell_type": "code",
      "source": [
        "# Conteo de los niveles en las diferentes columnas categoricas\n",
        "cols_cat = ['job','marital','education','default','housing',\n",
        "            'loan','contact','month','poutcome','y']\n",
        "for col in cols_cat:\n",
        "  print(f'Columna {col} = {data[col].nunique()} subniveles')"
      ],
      "metadata": {
        "id": "F8lb_rDYfbZd",
        "colab": {
          "base_uri": "https://localhost:8080/"
        },
        "outputId": "0471d93f-9989-4c33-b333-9f592f83fbb4"
      },
      "execution_count": 7,
      "outputs": [
        {
          "output_type": "stream",
          "name": "stdout",
          "text": [
            "Columna job = 18 subniveles\n",
            "Columna marital = 6 subniveles\n",
            "Columna education = 10 subniveles\n",
            "Columna default = 2 subniveles\n",
            "Columna housing = 2 subniveles\n",
            "Columna loan = 6 subniveles\n",
            "Columna contact = 5 subniveles\n",
            "Columna month = 12 subniveles\n",
            "Columna poutcome = 6 subniveles\n",
            "Columna y = 2 subniveles\n"
          ]
        }
      ]
    },
    {
      "cell_type": "markdown",
      "source": [
        "Todas las columnas categóricas tienen más de 1 subnivel. No eliminaremos ninguna.\n",
        "\n",
        "Verifiquemos lo que ocurre con las columnas numéricas:"
      ],
      "metadata": {
        "id": "-8Y2g25lMg20"
      }
    },
    {
      "cell_type": "code",
      "source": [
        "data.describe()"
      ],
      "metadata": {
        "colab": {
          "base_uri": "https://localhost:8080/",
          "height": 320
        },
        "id": "qJxftrZAMsGX",
        "outputId": "2eecc89a-36ac-46dc-baa0-04a6e42708af"
      },
      "execution_count": 8,
      "outputs": [
        {
          "output_type": "execute_result",
          "data": {
            "text/plain": [
              "                age        balance           day      duration      campaign  \\\n",
              "count  45207.000000   45207.000000  45207.000000  45207.000000  45207.000000   \n",
              "mean      41.005596    1374.201318     15.806534    258.032539      2.763731   \n",
              "std       12.037399    3924.491665      8.323015    257.460759      3.098058   \n",
              "min       18.000000   -8019.000000      1.000000  -1389.000000      1.000000   \n",
              "25%       33.000000      72.000000      8.000000    103.000000      1.000000   \n",
              "50%       39.000000     448.000000     16.000000    180.000000      2.000000   \n",
              "75%       48.000000    1427.500000     21.000000    319.000000      3.000000   \n",
              "max      776.000000  527532.000000     31.000000   4918.000000     63.000000   \n",
              "\n",
              "              pdays      previous  \n",
              "count  45207.000000  45207.000000  \n",
              "mean      40.178225      0.580198  \n",
              "std      100.103283      2.303341  \n",
              "min       -1.000000      0.000000  \n",
              "25%       -1.000000      0.000000  \n",
              "50%       -1.000000      0.000000  \n",
              "75%       -1.000000      0.000000  \n",
              "max      871.000000    275.000000  "
            ],
            "text/html": [
              "\n",
              "  <div id=\"df-9ad0ca6a-526c-4185-b1db-cb06778177d2\" class=\"colab-df-container\">\n",
              "    <div>\n",
              "<style scoped>\n",
              "    .dataframe tbody tr th:only-of-type {\n",
              "        vertical-align: middle;\n",
              "    }\n",
              "\n",
              "    .dataframe tbody tr th {\n",
              "        vertical-align: top;\n",
              "    }\n",
              "\n",
              "    .dataframe thead th {\n",
              "        text-align: right;\n",
              "    }\n",
              "</style>\n",
              "<table border=\"1\" class=\"dataframe\">\n",
              "  <thead>\n",
              "    <tr style=\"text-align: right;\">\n",
              "      <th></th>\n",
              "      <th>age</th>\n",
              "      <th>balance</th>\n",
              "      <th>day</th>\n",
              "      <th>duration</th>\n",
              "      <th>campaign</th>\n",
              "      <th>pdays</th>\n",
              "      <th>previous</th>\n",
              "    </tr>\n",
              "  </thead>\n",
              "  <tbody>\n",
              "    <tr>\n",
              "      <th>count</th>\n",
              "      <td>45207.000000</td>\n",
              "      <td>45207.000000</td>\n",
              "      <td>45207.000000</td>\n",
              "      <td>45207.000000</td>\n",
              "      <td>45207.000000</td>\n",
              "      <td>45207.000000</td>\n",
              "      <td>45207.000000</td>\n",
              "    </tr>\n",
              "    <tr>\n",
              "      <th>mean</th>\n",
              "      <td>41.005596</td>\n",
              "      <td>1374.201318</td>\n",
              "      <td>15.806534</td>\n",
              "      <td>258.032539</td>\n",
              "      <td>2.763731</td>\n",
              "      <td>40.178225</td>\n",
              "      <td>0.580198</td>\n",
              "    </tr>\n",
              "    <tr>\n",
              "      <th>std</th>\n",
              "      <td>12.037399</td>\n",
              "      <td>3924.491665</td>\n",
              "      <td>8.323015</td>\n",
              "      <td>257.460759</td>\n",
              "      <td>3.098058</td>\n",
              "      <td>100.103283</td>\n",
              "      <td>2.303341</td>\n",
              "    </tr>\n",
              "    <tr>\n",
              "      <th>min</th>\n",
              "      <td>18.000000</td>\n",
              "      <td>-8019.000000</td>\n",
              "      <td>1.000000</td>\n",
              "      <td>-1389.000000</td>\n",
              "      <td>1.000000</td>\n",
              "      <td>-1.000000</td>\n",
              "      <td>0.000000</td>\n",
              "    </tr>\n",
              "    <tr>\n",
              "      <th>25%</th>\n",
              "      <td>33.000000</td>\n",
              "      <td>72.000000</td>\n",
              "      <td>8.000000</td>\n",
              "      <td>103.000000</td>\n",
              "      <td>1.000000</td>\n",
              "      <td>-1.000000</td>\n",
              "      <td>0.000000</td>\n",
              "    </tr>\n",
              "    <tr>\n",
              "      <th>50%</th>\n",
              "      <td>39.000000</td>\n",
              "      <td>448.000000</td>\n",
              "      <td>16.000000</td>\n",
              "      <td>180.000000</td>\n",
              "      <td>2.000000</td>\n",
              "      <td>-1.000000</td>\n",
              "      <td>0.000000</td>\n",
              "    </tr>\n",
              "    <tr>\n",
              "      <th>75%</th>\n",
              "      <td>48.000000</td>\n",
              "      <td>1427.500000</td>\n",
              "      <td>21.000000</td>\n",
              "      <td>319.000000</td>\n",
              "      <td>3.000000</td>\n",
              "      <td>-1.000000</td>\n",
              "      <td>0.000000</td>\n",
              "    </tr>\n",
              "    <tr>\n",
              "      <th>max</th>\n",
              "      <td>776.000000</td>\n",
              "      <td>527532.000000</td>\n",
              "      <td>31.000000</td>\n",
              "      <td>4918.000000</td>\n",
              "      <td>63.000000</td>\n",
              "      <td>871.000000</td>\n",
              "      <td>275.000000</td>\n",
              "    </tr>\n",
              "  </tbody>\n",
              "</table>\n",
              "</div>\n",
              "    <div class=\"colab-df-buttons\">\n",
              "\n",
              "  <div class=\"colab-df-container\">\n",
              "    <button class=\"colab-df-convert\" onclick=\"convertToInteractive('df-9ad0ca6a-526c-4185-b1db-cb06778177d2')\"\n",
              "            title=\"Convert this dataframe to an interactive table.\"\n",
              "            style=\"display:none;\">\n",
              "\n",
              "  <svg xmlns=\"http://www.w3.org/2000/svg\" height=\"24px\" viewBox=\"0 -960 960 960\">\n",
              "    <path d=\"M120-120v-720h720v720H120Zm60-500h600v-160H180v160Zm220 220h160v-160H400v160Zm0 220h160v-160H400v160ZM180-400h160v-160H180v160Zm440 0h160v-160H620v160ZM180-180h160v-160H180v160Zm440 0h160v-160H620v160Z\"/>\n",
              "  </svg>\n",
              "    </button>\n",
              "\n",
              "  <style>\n",
              "    .colab-df-container {\n",
              "      display:flex;\n",
              "      gap: 12px;\n",
              "    }\n",
              "\n",
              "    .colab-df-convert {\n",
              "      background-color: #E8F0FE;\n",
              "      border: none;\n",
              "      border-radius: 50%;\n",
              "      cursor: pointer;\n",
              "      display: none;\n",
              "      fill: #1967D2;\n",
              "      height: 32px;\n",
              "      padding: 0 0 0 0;\n",
              "      width: 32px;\n",
              "    }\n",
              "\n",
              "    .colab-df-convert:hover {\n",
              "      background-color: #E2EBFA;\n",
              "      box-shadow: 0px 1px 2px rgba(60, 64, 67, 0.3), 0px 1px 3px 1px rgba(60, 64, 67, 0.15);\n",
              "      fill: #174EA6;\n",
              "    }\n",
              "\n",
              "    .colab-df-buttons div {\n",
              "      margin-bottom: 4px;\n",
              "    }\n",
              "\n",
              "    [theme=dark] .colab-df-convert {\n",
              "      background-color: #3B4455;\n",
              "      fill: #D2E3FC;\n",
              "    }\n",
              "\n",
              "    [theme=dark] .colab-df-convert:hover {\n",
              "      background-color: #434B5C;\n",
              "      box-shadow: 0px 1px 3px 1px rgba(0, 0, 0, 0.15);\n",
              "      filter: drop-shadow(0px 1px 2px rgba(0, 0, 0, 0.3));\n",
              "      fill: #FFFFFF;\n",
              "    }\n",
              "  </style>\n",
              "\n",
              "    <script>\n",
              "      const buttonEl =\n",
              "        document.querySelector('#df-9ad0ca6a-526c-4185-b1db-cb06778177d2 button.colab-df-convert');\n",
              "      buttonEl.style.display =\n",
              "        google.colab.kernel.accessAllowed ? 'block' : 'none';\n",
              "\n",
              "      async function convertToInteractive(key) {\n",
              "        const element = document.querySelector('#df-9ad0ca6a-526c-4185-b1db-cb06778177d2');\n",
              "        const dataTable =\n",
              "          await google.colab.kernel.invokeFunction('convertToInteractive',\n",
              "                                                    [key], {});\n",
              "        if (!dataTable) return;\n",
              "\n",
              "        const docLinkHtml = 'Like what you see? Visit the ' +\n",
              "          '<a target=\"_blank\" href=https://colab.research.google.com/notebooks/data_table.ipynb>data table notebook</a>'\n",
              "          + ' to learn more about interactive tables.';\n",
              "        element.innerHTML = '';\n",
              "        dataTable['output_type'] = 'display_data';\n",
              "        await google.colab.output.renderOutput(dataTable, element);\n",
              "        const docLink = document.createElement('div');\n",
              "        docLink.innerHTML = docLinkHtml;\n",
              "        element.appendChild(docLink);\n",
              "      }\n",
              "    </script>\n",
              "  </div>\n",
              "\n",
              "\n",
              "<div id=\"df-3c8d7317-336e-45c6-b6bd-ded8247f6fa6\">\n",
              "  <button class=\"colab-df-quickchart\" onclick=\"quickchart('df-3c8d7317-336e-45c6-b6bd-ded8247f6fa6')\"\n",
              "            title=\"Suggest charts\"\n",
              "            style=\"display:none;\">\n",
              "\n",
              "<svg xmlns=\"http://www.w3.org/2000/svg\" height=\"24px\"viewBox=\"0 0 24 24\"\n",
              "     width=\"24px\">\n",
              "    <g>\n",
              "        <path d=\"M19 3H5c-1.1 0-2 .9-2 2v14c0 1.1.9 2 2 2h14c1.1 0 2-.9 2-2V5c0-1.1-.9-2-2-2zM9 17H7v-7h2v7zm4 0h-2V7h2v10zm4 0h-2v-4h2v4z\"/>\n",
              "    </g>\n",
              "</svg>\n",
              "  </button>\n",
              "\n",
              "<style>\n",
              "  .colab-df-quickchart {\n",
              "      --bg-color: #E8F0FE;\n",
              "      --fill-color: #1967D2;\n",
              "      --hover-bg-color: #E2EBFA;\n",
              "      --hover-fill-color: #174EA6;\n",
              "      --disabled-fill-color: #AAA;\n",
              "      --disabled-bg-color: #DDD;\n",
              "  }\n",
              "\n",
              "  [theme=dark] .colab-df-quickchart {\n",
              "      --bg-color: #3B4455;\n",
              "      --fill-color: #D2E3FC;\n",
              "      --hover-bg-color: #434B5C;\n",
              "      --hover-fill-color: #FFFFFF;\n",
              "      --disabled-bg-color: #3B4455;\n",
              "      --disabled-fill-color: #666;\n",
              "  }\n",
              "\n",
              "  .colab-df-quickchart {\n",
              "    background-color: var(--bg-color);\n",
              "    border: none;\n",
              "    border-radius: 50%;\n",
              "    cursor: pointer;\n",
              "    display: none;\n",
              "    fill: var(--fill-color);\n",
              "    height: 32px;\n",
              "    padding: 0;\n",
              "    width: 32px;\n",
              "  }\n",
              "\n",
              "  .colab-df-quickchart:hover {\n",
              "    background-color: var(--hover-bg-color);\n",
              "    box-shadow: 0 1px 2px rgba(60, 64, 67, 0.3), 0 1px 3px 1px rgba(60, 64, 67, 0.15);\n",
              "    fill: var(--button-hover-fill-color);\n",
              "  }\n",
              "\n",
              "  .colab-df-quickchart-complete:disabled,\n",
              "  .colab-df-quickchart-complete:disabled:hover {\n",
              "    background-color: var(--disabled-bg-color);\n",
              "    fill: var(--disabled-fill-color);\n",
              "    box-shadow: none;\n",
              "  }\n",
              "\n",
              "  .colab-df-spinner {\n",
              "    border: 2px solid var(--fill-color);\n",
              "    border-color: transparent;\n",
              "    border-bottom-color: var(--fill-color);\n",
              "    animation:\n",
              "      spin 1s steps(1) infinite;\n",
              "  }\n",
              "\n",
              "  @keyframes spin {\n",
              "    0% {\n",
              "      border-color: transparent;\n",
              "      border-bottom-color: var(--fill-color);\n",
              "      border-left-color: var(--fill-color);\n",
              "    }\n",
              "    20% {\n",
              "      border-color: transparent;\n",
              "      border-left-color: var(--fill-color);\n",
              "      border-top-color: var(--fill-color);\n",
              "    }\n",
              "    30% {\n",
              "      border-color: transparent;\n",
              "      border-left-color: var(--fill-color);\n",
              "      border-top-color: var(--fill-color);\n",
              "      border-right-color: var(--fill-color);\n",
              "    }\n",
              "    40% {\n",
              "      border-color: transparent;\n",
              "      border-right-color: var(--fill-color);\n",
              "      border-top-color: var(--fill-color);\n",
              "    }\n",
              "    60% {\n",
              "      border-color: transparent;\n",
              "      border-right-color: var(--fill-color);\n",
              "    }\n",
              "    80% {\n",
              "      border-color: transparent;\n",
              "      border-right-color: var(--fill-color);\n",
              "      border-bottom-color: var(--fill-color);\n",
              "    }\n",
              "    90% {\n",
              "      border-color: transparent;\n",
              "      border-bottom-color: var(--fill-color);\n",
              "    }\n",
              "  }\n",
              "</style>\n",
              "\n",
              "  <script>\n",
              "    async function quickchart(key) {\n",
              "      const quickchartButtonEl =\n",
              "        document.querySelector('#' + key + ' button');\n",
              "      quickchartButtonEl.disabled = true;  // To prevent multiple clicks.\n",
              "      quickchartButtonEl.classList.add('colab-df-spinner');\n",
              "      try {\n",
              "        const charts = await google.colab.kernel.invokeFunction(\n",
              "            'suggestCharts', [key], {});\n",
              "      } catch (error) {\n",
              "        console.error('Error during call to suggestCharts:', error);\n",
              "      }\n",
              "      quickchartButtonEl.classList.remove('colab-df-spinner');\n",
              "      quickchartButtonEl.classList.add('colab-df-quickchart-complete');\n",
              "    }\n",
              "    (() => {\n",
              "      let quickchartButtonEl =\n",
              "        document.querySelector('#df-3c8d7317-336e-45c6-b6bd-ded8247f6fa6 button');\n",
              "      quickchartButtonEl.style.display =\n",
              "        google.colab.kernel.accessAllowed ? 'block' : 'none';\n",
              "    })();\n",
              "  </script>\n",
              "</div>\n",
              "\n",
              "    </div>\n",
              "  </div>\n"
            ],
            "application/vnd.google.colaboratory.intrinsic+json": {
              "type": "dataframe",
              "summary": "{\n  \"name\": \"data\",\n  \"rows\": 8,\n  \"fields\": [\n    {\n      \"column\": \"age\",\n      \"properties\": {\n        \"dtype\": \"number\",\n        \"std\": 15936.377113535487,\n        \"min\": 12.037399491095579,\n        \"max\": 45207.0,\n        \"num_unique_values\": 8,\n        \"samples\": [\n          41.00559647842148,\n          39.0,\n          45207.0\n        ],\n        \"semantic_type\": \"\",\n        \"description\": \"\"\n      }\n    },\n    {\n      \"column\": \"balance\",\n      \"properties\": {\n        \"dtype\": \"number\",\n        \"std\": 184980.44537690686,\n        \"min\": -8019.0,\n        \"max\": 527532.0,\n        \"num_unique_values\": 8,\n        \"samples\": [\n          1374.201318379897,\n          448.0,\n          45207.0\n        ],\n        \"semantic_type\": \"\",\n        \"description\": \"\"\n      }\n    },\n    {\n      \"column\": \"day\",\n      \"properties\": {\n        \"dtype\": \"number\",\n        \"std\": 15977.982912722464,\n        \"min\": 1.0,\n        \"max\": 45207.0,\n        \"num_unique_values\": 8,\n        \"samples\": [\n          15.806534386267613,\n          16.0,\n          45207.0\n        ],\n        \"semantic_type\": \"\",\n        \"description\": \"\"\n      }\n    },\n    {\n      \"column\": \"duration\",\n      \"properties\": {\n        \"dtype\": \"number\",\n        \"std\": 15853.774591473693,\n        \"min\": -1389.0,\n        \"max\": 45207.0,\n        \"num_unique_values\": 8,\n        \"samples\": [\n          258.03253920852967,\n          180.0,\n          45207.0\n        ],\n        \"semantic_type\": \"\",\n        \"description\": \"\"\n      }\n    },\n    {\n      \"column\": \"campaign\",\n      \"properties\": {\n        \"dtype\": \"number\",\n        \"std\": 15979.270740389022,\n        \"min\": 1.0,\n        \"max\": 45207.0,\n        \"num_unique_values\": 7,\n        \"samples\": [\n          45207.0,\n          2.7637312805538965,\n          3.0\n        ],\n        \"semantic_type\": \"\",\n        \"description\": \"\"\n      }\n    },\n    {\n      \"column\": \"pdays\",\n      \"properties\": {\n        \"dtype\": \"number\",\n        \"std\": 15935.01603409571,\n        \"min\": -1.0,\n        \"max\": 45207.0,\n        \"num_unique_values\": 5,\n        \"samples\": [\n          40.17822461123277,\n          871.0,\n          100.10328306134589\n        ],\n        \"semantic_type\": \"\",\n        \"description\": \"\"\n      }\n    },\n    {\n      \"column\": \"previous\",\n      \"properties\": {\n        \"dtype\": \"number\",\n        \"std\": 15969.34183644876,\n        \"min\": 0.0,\n        \"max\": 45207.0,\n        \"num_unique_values\": 5,\n        \"samples\": [\n          0.5801977569845378,\n          275.0,\n          2.3033409783835315\n        ],\n        \"semantic_type\": \"\",\n        \"description\": \"\"\n      }\n    }\n  ]\n}"
            }
          },
          "metadata": {},
          "execution_count": 8
        }
      ]
    },
    {
      "cell_type": "markdown",
      "source": [
        "Todas las columnas numéricas tienen desviaciones estándar (\"std\") diferentes de cero, lo que indica que no tienen un único valor.\n",
        "\n",
        "Preservamos todas las columnas numéricas.\n",
        "\n",
        "La desviación estándar es una medida que nos indica qué tan dispersos o alejados están los valores de un conjunto de datos respecto a su media o promedio. En otras palabras, nos ayuda a entender cuánto varían los valores individuales de un conjunto de datos con respecto a su valor promedio.\n",
        "\n",
        "Imagina que tienes un conjunto de datos que representa las alturas de estudiantes en una clase. Si la desviación estándar es baja, significa que la mayoría de los estudiantes tienen alturas muy similares entre sí y cercanas a la altura promedio de la clase. Por otro lado, si la desviación estándar es alta, significa que las alturas de los estudiantes están muy dispersas, algunos son muy altos y otros muy bajos en comparación con la altura promedio.\n",
        "\n",
        "Entonces, la desviación estándar nos da una idea de la dispersión o variabilidad de los datos alrededor de su promedio. Una desviación estándar baja indica que los datos están más agrupados alrededor del promedio, mientras que una desviación estándar alta indica que los datos están más dispersos o separados del promedio."
      ],
      "metadata": {
        "id": "mmWqk_fzMgmK"
      }
    },
    {
      "cell_type": "code",
      "source": [
        "# Conteo de valores con -1\n",
        "count = data['pdays'].value_counts()[-1]\n",
        "print(count)"
      ],
      "metadata": {
        "colab": {
          "base_uri": "https://localhost:8080/"
        },
        "id": "7YNHjozALXPy",
        "outputId": "b36e9908-58ef-4bc7-857e-11ffbdb91dff"
      },
      "execution_count": 14,
      "outputs": [
        {
          "output_type": "stream",
          "name": "stdout",
          "text": [
            "36953\n"
          ]
        }
      ]
    },
    {
      "cell_type": "code",
      "source": [
        "# Calcula la media del atributo \"pdays\"\n",
        "media = data['pdays'].mean()\n",
        "\n",
        "print(\"Media de la pdays:\", media)"
      ],
      "metadata": {
        "colab": {
          "base_uri": "https://localhost:8080/"
        },
        "id": "4FV0RH0Ijklv",
        "outputId": "168bb16e-0250-4d64-9749-822923d7052b"
      },
      "execution_count": 9,
      "outputs": [
        {
          "output_type": "stream",
          "name": "stdout",
          "text": [
            "Media de la pdays: 40.17822461123277\n"
          ]
        }
      ]
    },
    {
      "cell_type": "code",
      "source": [
        "# Graficar un histograma del atributo \"pdays\"\n",
        "plt.hist(data['pdays'], bins=20, color='skyblue', edgecolor='black',alpha=0.7)\n",
        "\n",
        "# Agregar una linea vertical para mostrar la media\n",
        "plt.axvline(media, color='red', linestyle='dashed', linewidth=1)\n",
        "\n",
        "# Etiquetas y titulo\n",
        "plt.xlabel('Valor de la pdays')\n",
        "plt.ylabel('Frecuencia')\n",
        "plt.title('Histograma de la pdays con Media')\n",
        "\n",
        "# Mostrar la grafica\n",
        "plt.show()"
      ],
      "metadata": {
        "colab": {
          "base_uri": "https://localhost:8080/",
          "height": 472
        },
        "id": "MHcq0sTQzByI",
        "outputId": "df4458a8-883f-425d-e027-26e9bc63d4cc"
      },
      "execution_count": 10,
      "outputs": [
        {
          "output_type": "display_data",
          "data": {
            "text/plain": [
              "<Figure size 640x480 with 1 Axes>"
            ],
            "image/png": "[encoded data removed]"
          },
          "metadata": {}
        }
      ]
    },
    {
      "cell_type": "code",
      "source": [
        "# Calcula la desviacion estandar del atributo \"pdays\"\n",
        "desviacion_estandar = data['pdays'].std()\n",
        "\n",
        "print(\"Desviacion estandar de la pdays:\", desviacion_estandar)"
      ],
      "metadata": {
        "colab": {
          "base_uri": "https://localhost:8080/"
        },
        "id": "8xx2mSjG5PDW",
        "outputId": "7370d6ac-60c9-4da8-fad3-432b1914e897"
      },
      "execution_count": 12,
      "outputs": [
        {
          "output_type": "stream",
          "name": "stdout",
          "text": [
            "Desviacion estandar de la pdays: 100.10328306134589\n"
          ]
        }
      ]
    },
    {
      "cell_type": "code",
      "source": [
        "# Graficar un histograma de la desviacion estandar del atributo \"pdays\"\n",
        "plt.hist(data['pdays'], bins=20, color='skyblue', edgecolor='black',alpha=0.7)\n",
        "\n",
        "# Agregar una linea vertical para mostrar la media\n",
        "plt.axvline(desviacion_estandar, color='red', linestyle='dashed', linewidth=1)\n",
        "\n",
        "# Etiquetas y titulo\n",
        "plt.xlabel('Valor de la pdays')\n",
        "plt.ylabel('Frecuencia')\n",
        "plt.title('Histograma de la pdays con Desviacion Estandar')\n",
        "\n",
        "# Mostrar la grafica\n",
        "plt.show()"
      ],
      "metadata": {
        "colab": {
          "base_uri": "https://localhost:8080/",
          "height": 472
        },
        "id": "1OBadGBb_Xwv",
        "outputId": "9ea44381-8b8f-4c0e-f069-7689ee8bd38d"
      },
      "execution_count": 13,
      "outputs": [
        {
          "output_type": "display_data",
          "data": {
            "text/plain": [
              "<Figure size 640x480 with 1 Axes>"
            ],
            "image/png": "[encoded data removed]"
          },
          "metadata": {}
        }
      ]
    },
    {
      "cell_type": "markdown",
      "source": [
        "# 4.3 Filas repetidas"
      ],
      "metadata": {
        "id": "xmLbrgkgOqUJ"
      }
    },
    {
      "cell_type": "code",
      "source": [
        "print(f'Tamaño del set antes de eliminar las filas repetidas: {data.shape}')\n",
        "data.drop_duplicates(inplace=True)\n",
        "print(f'Tamaño del set depues de eliminar las filas repetidas:{data.shape}')"
      ],
      "metadata": {
        "colab": {
          "base_uri": "https://localhost:8080/"
        },
        "id": "6lcmnh4YOpp7",
        "outputId": "3f0b728b-473e-4263-d29f-a76b5b6079dd"
      },
      "execution_count": 15,
      "outputs": [
        {
          "output_type": "stream",
          "name": "stdout",
          "text": [
            "Tamaño del set antes de eliminar las filas repetidas: (45207, 17)\n",
            "Tamaño del set depues de eliminar las filas repetidas:(45203, 17)\n"
          ]
        }
      ]
    },
    {
      "cell_type": "markdown",
      "source": [
        "## 4.4 *Outliers* en las variables numéricas\n",
        "\n",
        "No siempre se deben eliminar los *outliers* porque dependiendo de la variable numérica analizada estos pueden contener información importante.\n",
        "\n",
        "Creemos gráficas tipo \"boxplot\" de las columnas numéricas:\n",
        "\n",
        "**Observaciones:**\n",
        "- \"age\": hay sujetos con edades mucho mayores a 100 años\n",
        "- \"duration\": hay valores negativos\n",
        "- \"previous\": hay un valor extremadamente alto (cercano a 300)\n"
      ],
      "metadata": {
        "id": "mle1t3_CgW3a"
      }
    },
    {
      "cell_type": "code",
      "source": [
        "# Edad promedio de los clientes interesados en adquirir el certificado de deposito\n",
        "Edad_promedio_interesados = data[data['y'] =='yes'] ['age']. Mean()\n",
        "Print(\"1. edad promedio de los clientes interesados\", Edad_promedio_interesados)"
      ],
      "metadata": {
        "id": "7O4qrTO5uu71",
        "colab": {
          "base_uri": "https://localhost:8080/",
          "height": 349
        },
        "outputId": "9d61ab54-be8a-464f-b9e3-99312b93cce8"
      },
      "execution_count": 11,
      "outputs": [
        {
          "output_type": "error",
          "ename": "AttributeError",
          "evalue": "'Series' object has no attribute 'Mean'",
          "traceback": [
            "\u001b[0;31m---------------------------------------------------------------------------\u001b[0m",
            "\u001b[0;31mAttributeError\u001b[0m                            Traceback (most recent call last)",
            "\u001b[0;32m<ipython-input-11-556fd6dfc4b1>\u001b[0m in \u001b[0;36m<cell line: 2>\u001b[0;34m()\u001b[0m\n\u001b[1;32m      1\u001b[0m \u001b[0;31m# Edad promedio de los clientes interesados en adquirir el certificado de deposito\u001b[0m\u001b[0;34m\u001b[0m\u001b[0;34m\u001b[0m\u001b[0m\n\u001b[0;32m----> 2\u001b[0;31m \u001b[0mEdad_promedio_interesados\u001b[0m \u001b[0;34m=\u001b[0m \u001b[0mdata\u001b[0m\u001b[0;34m[\u001b[0m\u001b[0mdata\u001b[0m\u001b[0;34m[\u001b[0m\u001b[0;34m'y'\u001b[0m\u001b[0;34m]\u001b[0m \u001b[0;34m==\u001b[0m\u001b[0;34m'yes'\u001b[0m\u001b[0;34m]\u001b[0m \u001b[0;34m[\u001b[0m\u001b[0;34m'age'\u001b[0m\u001b[0;34m]\u001b[0m\u001b[0;34m.\u001b[0m \u001b[0mMean\u001b[0m\u001b[0;34m(\u001b[0m\u001b[0;34m)\u001b[0m\u001b[0;34m\u001b[0m\u001b[0;34m\u001b[0m\u001b[0m\n\u001b[0m\u001b[1;32m      3\u001b[0m \u001b[0mPrint\u001b[0m\u001b[0;34m(\u001b[0m\u001b[0;34m\"1. edad promedio de los clientes interesados\"\u001b[0m\u001b[0;34m,\u001b[0m \u001b[0mEdad_promedio_interesados\u001b[0m\u001b[0;34m)\u001b[0m\u001b[0;34m\u001b[0m\u001b[0;34m\u001b[0m\u001b[0m\n",
            "\u001b[0;32m/usr/local/lib/python3.10/dist-packages/pandas/core/generic.py\u001b[0m in \u001b[0;36m__getattr__\u001b[0;34m(self, name)\u001b[0m\n\u001b[1;32m   5900\u001b[0m         ):\n\u001b[1;32m   5901\u001b[0m             \u001b[0;32mreturn\u001b[0m \u001b[0mself\u001b[0m\u001b[0;34m[\u001b[0m\u001b[0mname\u001b[0m\u001b[0;34m]\u001b[0m\u001b[0;34m\u001b[0m\u001b[0;34m\u001b[0m\u001b[0m\n\u001b[0;32m-> 5902\u001b[0;31m         \u001b[0;32mreturn\u001b[0m \u001b[0mobject\u001b[0m\u001b[0;34m.\u001b[0m\u001b[0m__getattribute__\u001b[0m\u001b[0;34m(\u001b[0m\u001b[0mself\u001b[0m\u001b[0;34m,\u001b[0m \u001b[0mname\u001b[0m\u001b[0;34m)\u001b[0m\u001b[0;34m\u001b[0m\u001b[0;34m\u001b[0m\u001b[0m\n\u001b[0m\u001b[1;32m   5903\u001b[0m \u001b[0;34m\u001b[0m\u001b[0m\n\u001b[1;32m   5904\u001b[0m     \u001b[0;32mdef\u001b[0m \u001b[0m__setattr__\u001b[0m\u001b[0;34m(\u001b[0m\u001b[0mself\u001b[0m\u001b[0;34m,\u001b[0m \u001b[0mname\u001b[0m\u001b[0;34m:\u001b[0m \u001b[0mstr\u001b[0m\u001b[0;34m,\u001b[0m \u001b[0mvalue\u001b[0m\u001b[0;34m)\u001b[0m \u001b[0;34m->\u001b[0m \u001b[0;32mNone\u001b[0m\u001b[0;34m:\u001b[0m\u001b[0;34m\u001b[0m\u001b[0;34m\u001b[0m\u001b[0m\n",
            "\u001b[0;31mAttributeError\u001b[0m: 'Series' object has no attribute 'Mean'"
          ]
        }
      ]
    },
    {
      "cell_type": "markdown",
      "source": [],
      "metadata": {
        "id": "JjGK16PMmwYS"
      }
    },
    {
      "cell_type": "code",
      "source": [
        "# Calcula la media del atributo \"pdays: días de contacto al usuario antes de la campaña actual\"\n",
        "Media = data"
      ],
      "metadata": {
        "id": "Hq1kdFCum02p"
      },
      "execution_count": null,
      "outputs": []
    }
  ]
}